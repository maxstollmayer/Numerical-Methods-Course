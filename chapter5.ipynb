{
 "cells": [
  {
   "cell_type": "code",
   "execution_count": 1,
   "metadata": {},
   "outputs": [],
   "source": [
    "import numpy as np"
   ]
  },
  {
   "cell_type": "markdown",
   "metadata": {},
   "source": [
    "# Nonlinear Equations\n",
    "Problem: For given $f:\\mathbb{R}\\rightarrow\\mathbb{R}$ and $\\eta\\in\\mathbb{R}$ find $\\xi\\in\\mathbb{R}$ such that $f(\\xi) = \\eta.$ Or equivalently solve $f(\\xi)=0.$"
   ]
  },
  {
   "cell_type": "markdown",
   "metadata": {},
   "source": [
    "## Bisection Method\n",
    "Idea: Bisect the given interval and select the subinterval in which the given function changes its sign."
   ]
  },
  {
   "cell_type": "code",
   "execution_count": 46,
   "metadata": {},
   "outputs": [],
   "source": [
    "def bisectionMethod(f, a, b, tol=1e-8, maxiter=1000):\n",
    "    for _ in range(maxiter):\n",
    "        c = (a + b) / 2\n",
    "        y = f(c)\n",
    "        if y == 0 or (b - a) / 2 <= tol:\n",
    "            return c\n",
    "        if np.sign(y) == np.sign(f(a)):\n",
    "            a = c\n",
    "        else:\n",
    "            b = c\n",
    "    print(f\"Bisection method failed with an error of {np.abs(y)}. Returned last value.\")\n",
    "    return c"
   ]
  },
  {
   "cell_type": "code",
   "execution_count": 47,
   "metadata": {},
   "outputs": [
    {
     "data": {
      "text/plain": [
       "4.422492594358118e-09"
      ]
     },
     "execution_count": 47,
     "metadata": {},
     "output_type": "execute_result"
    }
   ],
   "source": [
    "def f(x):\n",
    "    return x**2 - 5\n",
    "\n",
    "np.abs(bisectionMethod(f, 1, 3) - np.sqrt(5))"
   ]
  },
  {
   "cell_type": "markdown",
   "metadata": {},
   "source": [
    "## Secant Method\n",
    "Idea: Use the root of the secant between two given points on the graph of $f$ to define a new starting value and thus iteratively get better approximations for the root of $f.$\n",
    "$$x_{n+1} = x_n - f(x_n) \\frac{x_n - x_{n-1}}{f(x_n)-f(x_{n-1})}$$"
   ]
  },
  {
   "cell_type": "code",
   "execution_count": 67,
   "metadata": {},
   "outputs": [],
   "source": [
    "def secantMethod(f, a, b, tol=1e-8, maxiter=1000):\n",
    "    for _ in range(maxiter):\n",
    "        y0 = f(a)\n",
    "        y1 = f(b)\n",
    "        c = b - (b - a) / (1 - y0 / y1)\n",
    "        if np.abs(y1) <= tol:\n",
    "            return c\n",
    "        a, b = b, c\n",
    "    print(f\"Secant method failed with an error of {np.abs(y1)}. Returned last value.\")\n",
    "    return c"
   ]
  },
  {
   "cell_type": "code",
   "execution_count": 68,
   "metadata": {},
   "outputs": [
    {
     "data": {
      "text/plain": [
       "0.0"
      ]
     },
     "execution_count": 68,
     "metadata": {},
     "output_type": "execute_result"
    }
   ],
   "source": [
    "def f(x):\n",
    "    return x**2 - 5\n",
    "\n",
    "np.abs(secantMethod(f, 1, 3) - np.sqrt(5))"
   ]
  },
  {
   "cell_type": "code",
   "execution_count": 54,
   "metadata": {},
   "outputs": [
    {
     "data": {
      "text/plain": [
       "4.422492594358118e-09"
      ]
     },
     "execution_count": 54,
     "metadata": {},
     "output_type": "execute_result"
    }
   ],
   "source": [
    "np.abs(secantMethod(f, 1, 3) - bisectionMethod(f, 1, 3))"
   ]
  },
  {
   "cell_type": "markdown",
   "metadata": {},
   "source": [
    "for root of order 2:"
   ]
  },
  {
   "cell_type": "code",
   "execution_count": 72,
   "metadata": {},
   "outputs": [],
   "source": [
    "def rootSecantMethod(f, a, b, tol=1e-8, maxiter=1000):\n",
    "    for _ in range(maxiter):\n",
    "        y0 = f(a)\n",
    "        y1 = f(b)\n",
    "        c = b - (b - a) / (1 - np.sqrt(y0 / y1))\n",
    "        if np.abs(y1) <= tol:\n",
    "            return c\n",
    "        a, b = b, c\n",
    "    print(f\"Root secant method failed with an error of {np.abs(y1)}. Returned last value.\")\n",
    "    return c"
   ]
  },
  {
   "cell_type": "code",
   "execution_count": 73,
   "metadata": {},
   "outputs": [
    {
     "data": {
      "text/plain": [
       "8.554028596563512e-10"
      ]
     },
     "execution_count": 73,
     "metadata": {},
     "output_type": "execute_result"
    }
   ],
   "source": [
    "def f(x):\n",
    "    return x**4 - 2*x**3 + 2*x**2 -2*x + 1\n",
    "\n",
    "np.abs(rootSecantMethod(f, 0, 6/5) - 1)"
   ]
  },
  {
   "cell_type": "markdown",
   "metadata": {},
   "source": [
    "## Newton Method\n",
    "Idea: Use the root of tangent of given $f$ to get new starting value.\n",
    "$$x_{n+1} = x_n - \\frac{f(x_n)}{f'(x_n)}$$"
   ]
  },
  {
   "cell_type": "code",
   "execution_count": 92,
   "metadata": {},
   "outputs": [],
   "source": [
    "def NewtonMethod(f, x, fprime, tol=1e-8, maxiter=100):\n",
    "    for _ in range(maxiter):\n",
    "        y = f(x)\n",
    "        yprime = fprime(x)\n",
    "        z = x - y / yprime\n",
    "        error = abs(x - z)\n",
    "        if error <= tol:\n",
    "            return z\n",
    "        x = z\n",
    "    \n",
    "    print(f\"Secant method failed with an error of {error}. Returned last value.\")\n",
    "    return z"
   ]
  },
  {
   "cell_type": "code",
   "execution_count": 94,
   "metadata": {},
   "outputs": [
    {
     "data": {
      "text/plain": [
       "0.0"
      ]
     },
     "execution_count": 94,
     "metadata": {},
     "output_type": "execute_result"
    }
   ],
   "source": [
    "def f(x):\n",
    "    return x**2 - 5\n",
    "\n",
    "def fprime(x):\n",
    "    return 2*x\n",
    "\n",
    "abs(NewtonMethod(f, 1, fprime) - 5**(1/2))"
   ]
  }
 ],
 "metadata": {
  "kernelspec": {
   "display_name": "Python 3",
   "language": "python",
   "name": "python3"
  },
  "language_info": {
   "codemirror_mode": {
    "name": "ipython",
    "version": 3
   },
   "file_extension": ".py",
   "mimetype": "text/x-python",
   "name": "python",
   "nbconvert_exporter": "python",
   "pygments_lexer": "ipython3",
   "version": "3.8.3"
  }
 },
 "nbformat": 4,
 "nbformat_minor": 4
}
