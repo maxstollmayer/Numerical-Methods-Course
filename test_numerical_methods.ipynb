{
 "cells": [
  {
   "cell_type": "markdown",
   "metadata": {},
   "source": [
    "# Numerical Methods Unit Testing"
   ]
  },
  {
   "cell_type": "code",
   "execution_count": 1,
   "metadata": {},
   "outputs": [],
   "source": [
    "import unittest\n",
    "import numerical_methods"
   ]
  },
  {
   "cell_type": "code",
   "execution_count": 7,
   "metadata": {},
   "outputs": [],
   "source": [
    "class TestMethods(unittest.TestCase):\n",
    "    \n",
    "    def setUp(self):\n",
    "        print(\"setup\")\n",
    "        def f(y,t):\n",
    "            return -2*t*y**2\n",
    "        \n",
    "        y0 = 1\n",
    "        t0 = 0\n",
    "        t1 = 1\n",
    "        N = 100\n",
    "    \n",
    "    def test_forward_euler(self):\n",
    "        print(\"test forward_euler\")\n",
    "        _, result = methods.forward_euler(f,y0,t0,tN,N)\n",
    "        \n",
    "        self.assertEqual(result, forward_euler(f,y0,t0,tN,N)[1])\n",
    "        \n",
    "        with self.assertRaises(ValueError):\n",
    "            methods.forward_euler(_,y0,t0,tN,N)\n",
    "        \n",
    "    def test_backward_euler(self):\n",
    "        print(\"test backward_euler\")\n",
    "        pass"
   ]
  },
  {
   "cell_type": "code",
   "execution_count": 8,
   "metadata": {},
   "outputs": [
    {
     "name": "stderr",
     "output_type": "stream",
     "text": [
      "E\n",
      "======================================================================\n",
      "ERROR: C:\\Users\\maxst\\AppData\\Roaming\\jupyter\\runtime\\kernel-9027cd11-6474-427b-8f35-580c89c938b8 (unittest.loader._FailedTest)\n",
      "----------------------------------------------------------------------\n",
      "AttributeError: module '__main__' has no attribute 'C:\\Users\\maxst\\AppData\\Roaming\\jupyter\\runtime\\kernel-9027cd11-6474-427b-8f35-580c89c938b8'\n",
      "\n",
      "----------------------------------------------------------------------\n",
      "Ran 1 test in 0.001s\n",
      "\n",
      "FAILED (errors=1)\n"
     ]
    },
    {
     "ename": "SystemExit",
     "evalue": "True",
     "output_type": "error",
     "traceback": [
      "An exception has occurred, use %tb to see the full traceback.\n",
      "\u001b[1;31mSystemExit\u001b[0m\u001b[1;31m:\u001b[0m True\n"
     ]
    },
    {
     "name": "stderr",
     "output_type": "stream",
     "text": [
      "c:\\program files\\python38\\lib\\site-packages\\IPython\\core\\interactiveshell.py:3339: UserWarning: To exit: use 'exit', 'quit', or Ctrl-D.\n",
      "  warn(\"To exit: use 'exit', 'quit', or Ctrl-D.\", stacklevel=1)\n"
     ]
    }
   ],
   "source": [
    "if __name__ == \"__main__\":\n",
    "    unittest.main()"
   ]
  },
  {
   "cell_type": "code",
   "execution_count": null,
   "metadata": {},
   "outputs": [],
   "source": []
  }
 ],
 "metadata": {
  "kernelspec": {
   "display_name": "Python 3",
   "language": "python",
   "name": "python3"
  },
  "language_info": {
   "codemirror_mode": {
    "name": "ipython",
    "version": 3
   },
   "file_extension": ".py",
   "mimetype": "text/x-python",
   "name": "python",
   "nbconvert_exporter": "python",
   "pygments_lexer": "ipython3",
   "version": "3.8.2"
  }
 },
 "nbformat": 4,
 "nbformat_minor": 4
}