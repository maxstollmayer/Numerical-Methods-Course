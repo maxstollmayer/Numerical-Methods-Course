{
 "cells": [
  {
   "cell_type": "markdown",
   "metadata": {},
   "source": [
    "# Lineare Gleichungssysteme"
   ]
  },
  {
   "cell_type": "code",
   "execution_count": 2,
   "metadata": {},
   "outputs": [],
   "source": [
    "import numpy as np"
   ]
  },
  {
   "cell_type": "markdown",
   "metadata": {},
   "source": [
    "### LR-Zerlegung"
   ]
  },
  {
   "cell_type": "code",
   "execution_count": 10,
   "metadata": {},
   "outputs": [],
   "source": [
    "def LUdecomp(A):\n",
    "    '''returns upper and lower triangular matrices L, U which satisfy LU=A'''\n",
    "    \n",
    "    A = np.array(A)\n",
    "    n = len(A)\n",
    "    R = A\n",
    "    L = np.eye(n)\n",
    "    \n",
    "    for k in range(n):\n",
    "        for j in range(k+1, n):\n",
    "            L[j, k] = R[j, k] / R[k, k]\n",
    "            R[j, k:] = R[j, k:] - L[j, k] * R[k, k:]\n",
    "    \n",
    "    return L, R"
   ]
  },
  {
   "cell_type": "code",
   "execution_count": 4,
   "metadata": {},
   "outputs": [],
   "source": [
    "def GaussSolve(A, b):\n",
    "    '''returns solution x of Ax=b'''\n",
    "    \n",
    "    A = np.array(A)\n",
    "    b = np.array(b)\n",
    "    n = len(b)\n",
    "    if A.shape != (n, n):\n",
    "        raise Exception(\"shape mismatch\")\n",
    "    \n",
    "    M = np.zeros((n, n))\n",
    "    c = np.zeros(n)\n",
    "    \n",
    "    # solve Ly = b\n",
    "    for k in range(n):\n",
    "        c[k] = 0\n",
    "        M[k:, k] = np.zeros(n-k)\n",
    "        \n",
    "        c[k+1:] = A[k+1:, k] / A[k, k]\n",
    "        M[:, k] = c\n",
    "        L = np.eye(n) - M\n",
    "        A = L @ A\n",
    "        b = L @ b\n",
    "        \n",
    "    # solve Ux = y\n",
    "    for k in range(n-1, -1, -1):\n",
    "        b[k] = (b[k] - sum(A[k, k+1:] * b[k+1:])) / A[k, k]\n",
    "    \n",
    "    return b"
   ]
  },
  {
   "cell_type": "markdown",
   "metadata": {},
   "source": [
    "### LR-Zerlegung mit Pivotierung"
   ]
  },
  {
   "cell_type": "code",
   "execution_count": 18,
   "metadata": {},
   "outputs": [],
   "source": [
    "def LUdecomp(A):\n",
    "    A = np.array(A)\n",
    "    n = len(A)\n",
    "    U = A\n",
    "    L = np.eye(n)\n",
    "    P = np.eye(n)\n",
    "    \n",
    "    for k in range(n-1):\n",
    "        i = np.argmax(abs(U[k:, k])) + k\n",
    "        U[k, k:], U[i, k:] = U[i, k:], U[k, k:].copy()\n",
    "        L[k, :k-1], L[i, :k-1] = L[i, :k-1], L[k, :k-1].copy()\n",
    "        P[k], P[i] = P[i], P[k].copy()\n",
    "        \n",
    "        for j in range(k+1, n):\n",
    "            L[j, k] = U[j, k] / U[k, k]\n",
    "            U[j, k:] = U[j, k:] - L[j, k] * U[k, k:]\n",
    "    \n",
    "    return L, U, P"
   ]
  },
  {
   "cell_type": "code",
   "execution_count": 19,
   "metadata": {},
   "outputs": [
    {
     "data": {
      "text/plain": [
       "(array([[ 0.        ,  0.        ,  0.        ],\n",
       "        [ 0.57142857,  1.        ,  0.        ],\n",
       "        [ 0.14285714, -0.        ,  1.        ]]),\n",
       " array([[ 7,  8, -9],\n",
       "        [ 0, -3,  4],\n",
       "        [ 0,  0, 11]]),\n",
       " array([[0., 0., 1.],\n",
       "        [1., 0., 0.],\n",
       "        [0., 1., 0.]]))"
      ]
     },
     "execution_count": 19,
     "metadata": {},
     "output_type": "execute_result"
    }
   ],
   "source": [
    "LUdecomp(np.array([[1,-2,3],[4,5,6],[7,8,-9]]))"
   ]
  },
  {
   "cell_type": "code",
   "execution_count": null,
   "metadata": {},
   "outputs": [],
   "source": []
  }
 ],
 "metadata": {
  "kernelspec": {
   "display_name": "Python 3",
   "language": "python",
   "name": "python3"
  },
  "language_info": {
   "codemirror_mode": {
    "name": "ipython",
    "version": 3
   },
   "file_extension": ".py",
   "mimetype": "text/x-python",
   "name": "python",
   "nbconvert_exporter": "python",
   "pygments_lexer": "ipython3",
   "version": "3.8.5"
  }
 },
 "nbformat": 4,
 "nbformat_minor": 4
}
