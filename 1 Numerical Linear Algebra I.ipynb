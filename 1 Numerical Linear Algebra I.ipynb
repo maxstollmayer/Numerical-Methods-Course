{
 "cells": [
  {
   "cell_type": "code",
   "execution_count": 1,
   "metadata": {},
   "outputs": [],
   "source": [
    "import numpy as np \n",
    "from matplotlib import pyplot as plt\n",
    "\n",
    "plt.rcdefaults()\n",
    "plt.style.use(\"seaborn-whitegrid\")\n",
    "plt.rc(\"figure\", figsize=(11.2, 6.3))\n",
    "plt.rc(\"font\", size=12)\n",
    "plt.rc(\"axes\", edgecolor=\"white\")\n",
    "plt.rc(\"legend\", frameon=True, framealpha=0.8, facecolor=\"white\", edgecolor=\"white\")"
   ]
  },
  {
   "cell_type": "markdown",
   "metadata": {},
   "source": [
    "# 1 Numerical Linear Algebra I"
   ]
  },
  {
   "cell_type": "markdown",
   "metadata": {},
   "source": [
    "## Basics"
   ]
  },
  {
   "cell_type": "markdown",
   "metadata": {},
   "source": [
    "### Problem statement\n",
    "For $A=(a_{ij})\\in\\mathbb{K}^{n\\times n}$ and $\\ b=(b_i)\\in\\mathbb{K}^n$ find or determine the existence of $x=(x_i)\\in\\mathbb{K}^n$ such that $Ax=b,$ where $\\mathbb{K}=\\mathbb{R}$ or $\\mathbb{C}.$"
   ]
  },
  {
   "cell_type": "markdown",
   "metadata": {},
   "source": [
    "### Matrix Types\n",
    "Diagonalmatrix, Nullmatrix, Einheitsmatrix, Permutationsmatrix, monomiale Matrix, Rang-1-Matrix, tridiagonale Matrix / Bandmatrix, Dreiecksmatrix, Hessenbergmatrix, unitäre / orthogonale Matrix, Spiegelungsmatrix, hermitesche / symmetrische Matrix, positiv / negativ (semi-)definite Matrix, dünnbesetzte Matrix, H-Matrix, diagonaldominante Matrix, M-Matrix"
   ]
  },
  {
   "cell_type": "markdown",
   "metadata": {},
   "source": [
    "### Norms\n",
    "Spektralnorm, Zeilensummennorm, Spaltensummennorm, "
   ]
  },
  {
   "cell_type": "markdown",
   "metadata": {},
   "source": [
    "### Results from Linear Algebra\n",
    "$Ax=b$ has exactly one solution if and only if A is regular, which is equivalent to $\\det A \\neq 0$ and to $\\textrm{rank} A = n.$ In this case $x=A^{-1}b.$\n",
    "Furthermore using Cramer's Rule $x$ can be determined by calculating $x_i = \\dfrac{\\det A^{(i)}}{\\det A} = \\dfrac{1}{\\det A} \\textrm{adj}(A)b.$ $A^{(i)}$ is given by replacing the $i$-th column of $A$ with $b$ and $\\textrm{adj}(A)_{jk} = (-1)^{j+k} S_{kj}(A)$ is the adjoint matrix of $A,$ where $S_{kj}(A) \\in\\mathbb{K}^{(n-1)\\times (n-1)}$ is given by deleting the $k$-th row and $j$-th column of $A.$ "
   ]
  },
  {
   "cell_type": "markdown",
   "metadata": {},
   "source": [
    "### Direct Methods"
   ]
  },
  {
   "cell_type": "markdown",
   "metadata": {},
   "source": [
    "#### Gauß Algorithm\n",
    "Solving a system with a lower or ipper triangular matrix is straightforward using forward or back substitution respectively and a solution exists if no diagonal element is zero."
   ]
  },
  {
   "cell_type": "code",
   "execution_count": 2,
   "metadata": {},
   "outputs": [],
   "source": [
    "def solveLower(L, b):\n",
    "    n = len(b)    \n",
    "    x = np.zeros(n)\n",
    "    \n",
    "    for i in range(n):\n",
    "        if L[i,i] == 0:\n",
    "            raise Exception(\"Matrix is singular.\")\n",
    "        else:\n",
    "            x[i] = (b[i] - sum(L[i,:i] * x[:i])) / L[i,i]\n",
    "    \n",
    "    return x"
   ]
  },
  {
   "cell_type": "code",
   "execution_count": 3,
   "metadata": {},
   "outputs": [],
   "source": [
    "def solveUpper(U, b):\n",
    "    return solveLower(U[::-1,::-1], b[::-1])[::-1] #solves flipped to lower triangular system"
   ]
  },
  {
   "cell_type": "markdown",
   "metadata": {},
   "source": [
    "For an $n\\times n$ triangular matrix there are $k-1$ multiplications, $k-1$ additions and 1 division in the $k$-th step. Thus for $n$ steps there are $\\frac{n(n-1)}{2}$ multiplications, $\\frac{n(n-1)}{2}$ additions and $n$ divisions. Since these operations are roughly equivalent in terms of complexity on a modern computer there are $n^2$ operations and therefore the complexity is $O(n^2).$"
   ]
  },
  {
   "cell_type": "markdown",
   "metadata": {},
   "source": [
    "The Gauß algorithm first decomposes a given matrix into an upper and lower triangular matrix."
   ]
  },
  {
   "cell_type": "code",
   "execution_count": 30,
   "metadata": {},
   "outputs": [],
   "source": [
    "def LUdecomp(A):\n",
    "    A = np.array(A)\n",
    "    n = A.shape[0]\n",
    "    L = np.eye(n)\n",
    "    U = A\n",
    "    \n",
    "    for k in range(n-1):\n",
    "        for j in range(k+1, n):\n",
    "            L[j,k] = U[j,k] / U[k,k]\n",
    "            U[j,k:] = U[j,k:] - L[j,k] * U[k,k:]\n",
    "    \n",
    "    return L, U"
   ]
  },
  {
   "cell_type": "markdown",
   "metadata": {},
   "source": [
    "There are $2(n-k+1)$ operations in the inner loop of the LU decomposition which results in a complexity of $O(n^3).$ This naive approach is not suitable for all regular matrices since it fails if there is a zero on the diagonal of the given matrix, e.g. $\\big(\\begin{smallmatrix} 0 & 1 \\\\ 1 & 0 \\end{smallmatrix}\\big).$ Because of floating point arithmetic errors a matrix with a diagonal element very close to zero, i.e. smaller than the machine precision $\\textrm{eps},$ may not get properly decomposed by the LU decomposition:"
   ]
  },
  {
   "cell_type": "code",
   "execution_count": 31,
   "metadata": {},
   "outputs": [
    {
     "data": {
      "text/plain": [
       "array([[1.e-20, 1.e+00],\n",
       "       [1.e+00, 0.e+00]])"
      ]
     },
     "execution_count": 31,
     "metadata": {},
     "output_type": "execute_result"
    }
   ],
   "source": [
    "A = [[10**(-20),1],[1,1]]\n",
    "L, U = LUdecomp(A)\n",
    "L@U"
   ]
  },
  {
   "cell_type": "markdown",
   "metadata": {},
   "source": [
    "gauß gauß gauß"
   ]
  },
  {
   "cell_type": "code",
   "execution_count": 16,
   "metadata": {},
   "outputs": [],
   "source": [
    "def GaußAlgorithm(A, b):\n",
    "    L, U = LUdecomp(A)\n",
    "    print(L)\n",
    "    print(U)\n",
    "    y = solveLower(L, b)\n",
    "    return solveUpper(U, y)"
   ]
  },
  {
   "cell_type": "markdown",
   "metadata": {},
   "source": [
    "Since the higher order complexity comes from the LU decomposition the Gauß algorithm also has complexity $O(n^3).$"
   ]
  },
  {
   "cell_type": "code",
   "execution_count": 32,
   "metadata": {},
   "outputs": [
    {
     "name": "stdout",
     "output_type": "stream",
     "text": [
      "[[1. 0. 0. 0.]\n",
      " [2. 1. 0. 0.]\n",
      " [4. 3. 1. 0.]\n",
      " [3. 4. 1. 1.]]\n",
      "[[2 1 1 0]\n",
      " [0 1 1 1]\n",
      " [0 0 2 2]\n",
      " [0 0 0 2]]\n"
     ]
    },
    {
     "data": {
      "text/plain": [
       "array([0., 0., 0., 0.])"
      ]
     },
     "execution_count": 32,
     "metadata": {},
     "output_type": "execute_result"
    }
   ],
   "source": [
    "A = [[2,1,1,0],[4,3,3,1],[8,7,9,5],[6,7,9,8]]\n",
    "b = [1,3,4,7]\n",
    "x = GaußAlgorithm(A, b)\n",
    "A@x - b"
   ]
  },
  {
   "cell_type": "markdown",
   "metadata": {},
   "source": [
    "#### Pivoting\n",
    "By permuting rows of $A$ we can get the instability under control. Observe that in the $k$-th step of the Gauß algorithm multiples of the $k$-th row are subtracted from the rows $k+1,...,n$ of $A$ to get zeros in the $k$-th entry of that row. In this step the product of an entry of the $k$-th column and an element of the $k$-th row is subtracted and is then divided by the so called pivot element $A_{kk}.$ There is specific reason for using the $k$-th row and column in this step. Using row $i$ and column $j$ for $k < i,j \\le n$ results in the pivot element $A_{ij}.$ Choosing such a pivot element which is not equal to zero is called pivoting."
   ]
  },
  {
   "cell_type": "markdown",
   "metadata": {},
   "source": [
    "First we will consider pivoting just the columns"
   ]
  },
  {
   "cell_type": "code",
   "execution_count": 47,
   "metadata": {},
   "outputs": [],
   "source": [
    "def LUdecompColumnPivot(A):\n",
    "    A = np.array(A)\n",
    "    n = A.shape[0]\n",
    "    L = np.eye(n)\n",
    "    P = np.eye(n)\n",
    "    U = A\n",
    "    \n",
    "    for k in range(n-1):\n",
    "        i = k + np.abs(U[k:,k]).argmax() #chooses pivot column index\n",
    "        print(i)\n",
    "        print(\"U\",U)\n",
    "        U[k,k:], U[i,k:] = U[i,k:], U[k,k:].copy() #swaps rows\n",
    "        print(\"U\",U)\n",
    "        print(\"L\",L)\n",
    "        L[k,:k], L[i,:k] = L[i,:k], L[k,:k].copy()\n",
    "        print(\"L\",L)\n",
    "        print(\"P\",P)\n",
    "        P[k,:], P[i,:] = P[i,:], P[k,:].copy()\n",
    "        print(\"P\",P)\n",
    "        \n",
    "        for j in range(k+1, n):\n",
    "            L[j,k] = U[j,k] / U[k,k]\n",
    "            U[j,k:] = U[j,k:] - L[j,k] * U[k,k:]\n",
    "    \n",
    "    return L, U, P"
   ]
  },
  {
   "cell_type": "code",
   "execution_count": 48,
   "metadata": {},
   "outputs": [
    {
     "name": "stdout",
     "output_type": "stream",
     "text": [
      "2\n",
      "U [[2 1 1 0]\n",
      " [4 3 3 1]\n",
      " [8 7 9 5]\n",
      " [6 7 9 8]]\n",
      "U [[8 7 9 5]\n",
      " [4 3 3 1]\n",
      " [2 1 1 0]\n",
      " [6 7 9 8]]\n",
      "L [[1. 0. 0. 0.]\n",
      " [0. 1. 0. 0.]\n",
      " [0. 0. 1. 0.]\n",
      " [0. 0. 0. 1.]]\n",
      "L [[1. 0. 0. 0.]\n",
      " [0. 1. 0. 0.]\n",
      " [0. 0. 1. 0.]\n",
      " [0. 0. 0. 1.]]\n",
      "P [[1. 0. 0. 0.]\n",
      " [0. 1. 0. 0.]\n",
      " [0. 0. 1. 0.]\n",
      " [0. 0. 0. 1.]]\n",
      "P [[0. 0. 1. 0.]\n",
      " [0. 1. 0. 0.]\n",
      " [1. 0. 0. 0.]\n",
      " [0. 0. 0. 1.]]\n",
      "3\n",
      "U [[ 8  7  9  5]\n",
      " [ 0  0 -1 -1]\n",
      " [ 0  0 -1 -1]\n",
      " [ 0  1  2  4]]\n",
      "U [[ 8  7  9  5]\n",
      " [ 0  1  2  4]\n",
      " [ 0  0 -1 -1]\n",
      " [ 0  0 -1 -1]]\n",
      "L [[1.   0.   0.   0.  ]\n",
      " [0.5  1.   0.   0.  ]\n",
      " [0.25 0.   1.   0.  ]\n",
      " [0.75 0.   0.   1.  ]]\n",
      "L [[1.   0.   0.   0.  ]\n",
      " [0.75 1.   0.   0.  ]\n",
      " [0.25 0.   1.   0.  ]\n",
      " [0.5  0.   0.   1.  ]]\n",
      "P [[0. 0. 1. 0.]\n",
      " [0. 1. 0. 0.]\n",
      " [1. 0. 0. 0.]\n",
      " [0. 0. 0. 1.]]\n",
      "P [[0. 0. 1. 0.]\n",
      " [0. 0. 0. 1.]\n",
      " [1. 0. 0. 0.]\n",
      " [0. 1. 0. 0.]]\n",
      "2\n",
      "U [[ 8  7  9  5]\n",
      " [ 0  1  2  4]\n",
      " [ 0  0 -1 -1]\n",
      " [ 0  0 -1 -1]]\n",
      "U [[ 8  7  9  5]\n",
      " [ 0  1  2  4]\n",
      " [ 0  0 -1 -1]\n",
      " [ 0  0 -1 -1]]\n",
      "L [[1.   0.   0.   0.  ]\n",
      " [0.75 1.   0.   0.  ]\n",
      " [0.25 0.   1.   0.  ]\n",
      " [0.5  0.   0.   1.  ]]\n",
      "L [[1.   0.   0.   0.  ]\n",
      " [0.75 1.   0.   0.  ]\n",
      " [0.25 0.   1.   0.  ]\n",
      " [0.5  0.   0.   1.  ]]\n",
      "P [[0. 0. 1. 0.]\n",
      " [0. 0. 0. 1.]\n",
      " [1. 0. 0. 0.]\n",
      " [0. 1. 0. 0.]]\n",
      "P [[0. 0. 1. 0.]\n",
      " [0. 0. 0. 1.]\n",
      " [1. 0. 0. 0.]\n",
      " [0. 1. 0. 0.]]\n"
     ]
    },
    {
     "data": {
      "text/plain": [
       "array([[ 0.  ,  0.  ,  0.  ,  0.  ],\n",
       "       [ 0.  , -0.75, -0.25, -0.25],\n",
       "       [ 0.  ,  0.75,  0.25,  0.25],\n",
       "       [ 0.  ,  0.5 ,  0.5 ,  0.5 ]])"
      ]
     },
     "execution_count": 48,
     "metadata": {},
     "output_type": "execute_result"
    }
   ],
   "source": [
    "A = [[2,1,1,0],[4,3,3,1],[8,7,9,5],[6,7,9,8]]\n",
    "L, U, P = LUdecompColumnPivot(A)\n",
    "L@U - P@A"
   ]
  },
  {
   "cell_type": "markdown",
   "metadata": {},
   "source": [
    "complexity, alternatively permutation matrix as vector"
   ]
  },
  {
   "cell_type": "code",
   "execution_count": 14,
   "metadata": {},
   "outputs": [],
   "source": [
    "def GaußAlgorithmColumnPivot(A, b):\n",
    "    L, U, P = LUdecompColumnPivot(A)\n",
    "    y = solveLower(L, P@b)\n",
    "    return solveUpper(U, y)"
   ]
  },
  {
   "cell_type": "code",
   "execution_count": 46,
   "metadata": {},
   "outputs": [
    {
     "name": "stdout",
     "output_type": "stream",
     "text": [
      "2\n",
      "3\n",
      "2\n",
      "[[1.   0.   0.   0.  ]\n",
      " [0.75 1.   0.   0.  ]\n",
      " [0.25 0.   1.   0.  ]\n",
      " [0.5  0.   1.   1.  ]]\n",
      "[[ 8  7  9  5]\n",
      " [ 0  1  2  4]\n",
      " [ 0  0 -1 -1]\n",
      " [ 0  0  0  0]]\n",
      "[[0. 0. 1. 0.]\n",
      " [0. 0. 0. 1.]\n",
      " [1. 0. 0. 0.]\n",
      " [0. 1. 0. 0.]]\n"
     ]
    },
    {
     "ename": "Exception",
     "evalue": "Matrix is singular.",
     "output_type": "error",
     "traceback": [
      "\u001b[1;31m---------------------------------------------------------------------------\u001b[0m",
      "\u001b[1;31mException\u001b[0m                                 Traceback (most recent call last)",
      "\u001b[1;32m<ipython-input-46-652a21e2d046>\u001b[0m in \u001b[0;36m<module>\u001b[1;34m\u001b[0m\n\u001b[0;32m      1\u001b[0m \u001b[0mA\u001b[0m \u001b[1;33m=\u001b[0m \u001b[1;33m[\u001b[0m\u001b[1;33m[\u001b[0m\u001b[1;36m2\u001b[0m\u001b[1;33m,\u001b[0m\u001b[1;36m1\u001b[0m\u001b[1;33m,\u001b[0m\u001b[1;36m1\u001b[0m\u001b[1;33m,\u001b[0m\u001b[1;36m0\u001b[0m\u001b[1;33m]\u001b[0m\u001b[1;33m,\u001b[0m\u001b[1;33m[\u001b[0m\u001b[1;36m4\u001b[0m\u001b[1;33m,\u001b[0m\u001b[1;36m3\u001b[0m\u001b[1;33m,\u001b[0m\u001b[1;36m3\u001b[0m\u001b[1;33m,\u001b[0m\u001b[1;36m1\u001b[0m\u001b[1;33m]\u001b[0m\u001b[1;33m,\u001b[0m\u001b[1;33m[\u001b[0m\u001b[1;36m8\u001b[0m\u001b[1;33m,\u001b[0m\u001b[1;36m7\u001b[0m\u001b[1;33m,\u001b[0m\u001b[1;36m9\u001b[0m\u001b[1;33m,\u001b[0m\u001b[1;36m5\u001b[0m\u001b[1;33m]\u001b[0m\u001b[1;33m,\u001b[0m\u001b[1;33m[\u001b[0m\u001b[1;36m6\u001b[0m\u001b[1;33m,\u001b[0m\u001b[1;36m7\u001b[0m\u001b[1;33m,\u001b[0m\u001b[1;36m9\u001b[0m\u001b[1;33m,\u001b[0m\u001b[1;36m8\u001b[0m\u001b[1;33m]\u001b[0m\u001b[1;33m]\u001b[0m\u001b[1;33m\u001b[0m\u001b[1;33m\u001b[0m\u001b[0m\n\u001b[0;32m      2\u001b[0m \u001b[0mb\u001b[0m \u001b[1;33m=\u001b[0m \u001b[1;33m[\u001b[0m\u001b[1;36m1\u001b[0m\u001b[1;33m,\u001b[0m\u001b[1;36m3\u001b[0m\u001b[1;33m,\u001b[0m\u001b[1;36m4\u001b[0m\u001b[1;33m,\u001b[0m\u001b[1;36m7\u001b[0m\u001b[1;33m]\u001b[0m\u001b[1;33m\u001b[0m\u001b[1;33m\u001b[0m\u001b[0m\n\u001b[1;32m----> 3\u001b[1;33m \u001b[0mx\u001b[0m \u001b[1;33m=\u001b[0m \u001b[0mGaußAlgorithmColumnPivot\u001b[0m\u001b[1;33m(\u001b[0m\u001b[0mA\u001b[0m\u001b[1;33m,\u001b[0m \u001b[0mb\u001b[0m\u001b[1;33m)\u001b[0m\u001b[1;33m\u001b[0m\u001b[1;33m\u001b[0m\u001b[0m\n\u001b[0m\u001b[0;32m      4\u001b[0m \u001b[0mA\u001b[0m\u001b[1;33m@\u001b[0m\u001b[0mx\u001b[0m \u001b[1;33m-\u001b[0m \u001b[0mb\u001b[0m\u001b[1;33m\u001b[0m\u001b[1;33m\u001b[0m\u001b[0m\n",
      "\u001b[1;32m<ipython-input-14-3c6823d0365a>\u001b[0m in \u001b[0;36mGaußAlgorithmColumnPivot\u001b[1;34m(A, b)\u001b[0m\n\u001b[0;32m      5\u001b[0m     \u001b[0mprint\u001b[0m\u001b[1;33m(\u001b[0m\u001b[0mP\u001b[0m\u001b[1;33m)\u001b[0m\u001b[1;33m\u001b[0m\u001b[1;33m\u001b[0m\u001b[0m\n\u001b[0;32m      6\u001b[0m     \u001b[0my\u001b[0m \u001b[1;33m=\u001b[0m \u001b[0msolveLower\u001b[0m\u001b[1;33m(\u001b[0m\u001b[0mL\u001b[0m\u001b[1;33m,\u001b[0m \u001b[0mP\u001b[0m\u001b[1;33m@\u001b[0m\u001b[0mb\u001b[0m\u001b[1;33m)\u001b[0m\u001b[1;33m\u001b[0m\u001b[1;33m\u001b[0m\u001b[0m\n\u001b[1;32m----> 7\u001b[1;33m     \u001b[1;32mreturn\u001b[0m \u001b[0msolveUpper\u001b[0m\u001b[1;33m(\u001b[0m\u001b[0mU\u001b[0m\u001b[1;33m,\u001b[0m \u001b[0my\u001b[0m\u001b[1;33m)\u001b[0m\u001b[1;33m\u001b[0m\u001b[1;33m\u001b[0m\u001b[0m\n\u001b[0m",
      "\u001b[1;32m<ipython-input-3-776881136c20>\u001b[0m in \u001b[0;36msolveUpper\u001b[1;34m(U, b)\u001b[0m\n\u001b[0;32m      1\u001b[0m \u001b[1;32mdef\u001b[0m \u001b[0msolveUpper\u001b[0m\u001b[1;33m(\u001b[0m\u001b[0mU\u001b[0m\u001b[1;33m,\u001b[0m \u001b[0mb\u001b[0m\u001b[1;33m)\u001b[0m\u001b[1;33m:\u001b[0m\u001b[1;33m\u001b[0m\u001b[1;33m\u001b[0m\u001b[0m\n\u001b[1;32m----> 2\u001b[1;33m     \u001b[1;32mreturn\u001b[0m \u001b[0msolveLower\u001b[0m\u001b[1;33m(\u001b[0m\u001b[0mU\u001b[0m\u001b[1;33m[\u001b[0m\u001b[1;33m:\u001b[0m\u001b[1;33m:\u001b[0m\u001b[1;33m-\u001b[0m\u001b[1;36m1\u001b[0m\u001b[1;33m,\u001b[0m\u001b[1;33m:\u001b[0m\u001b[1;33m:\u001b[0m\u001b[1;33m-\u001b[0m\u001b[1;36m1\u001b[0m\u001b[1;33m]\u001b[0m\u001b[1;33m,\u001b[0m \u001b[0mb\u001b[0m\u001b[1;33m[\u001b[0m\u001b[1;33m:\u001b[0m\u001b[1;33m:\u001b[0m\u001b[1;33m-\u001b[0m\u001b[1;36m1\u001b[0m\u001b[1;33m]\u001b[0m\u001b[1;33m)\u001b[0m\u001b[1;33m[\u001b[0m\u001b[1;33m:\u001b[0m\u001b[1;33m:\u001b[0m\u001b[1;33m-\u001b[0m\u001b[1;36m1\u001b[0m\u001b[1;33m]\u001b[0m \u001b[1;31m#solves flipped to lower triangular system\u001b[0m\u001b[1;33m\u001b[0m\u001b[1;33m\u001b[0m\u001b[0m\n\u001b[0m",
      "\u001b[1;32m<ipython-input-2-35774ef10133>\u001b[0m in \u001b[0;36msolveLower\u001b[1;34m(L, b)\u001b[0m\n\u001b[0;32m      5\u001b[0m     \u001b[1;32mfor\u001b[0m \u001b[0mi\u001b[0m \u001b[1;32min\u001b[0m \u001b[0mrange\u001b[0m\u001b[1;33m(\u001b[0m\u001b[0mn\u001b[0m\u001b[1;33m)\u001b[0m\u001b[1;33m:\u001b[0m\u001b[1;33m\u001b[0m\u001b[1;33m\u001b[0m\u001b[0m\n\u001b[0;32m      6\u001b[0m         \u001b[1;32mif\u001b[0m \u001b[0mL\u001b[0m\u001b[1;33m[\u001b[0m\u001b[0mi\u001b[0m\u001b[1;33m,\u001b[0m\u001b[0mi\u001b[0m\u001b[1;33m]\u001b[0m \u001b[1;33m==\u001b[0m \u001b[1;36m0\u001b[0m\u001b[1;33m:\u001b[0m\u001b[1;33m\u001b[0m\u001b[1;33m\u001b[0m\u001b[0m\n\u001b[1;32m----> 7\u001b[1;33m             \u001b[1;32mraise\u001b[0m \u001b[0mException\u001b[0m\u001b[1;33m(\u001b[0m\u001b[1;34m\"Matrix is singular.\"\u001b[0m\u001b[1;33m)\u001b[0m\u001b[1;33m\u001b[0m\u001b[1;33m\u001b[0m\u001b[0m\n\u001b[0m\u001b[0;32m      8\u001b[0m         \u001b[1;32melse\u001b[0m\u001b[1;33m:\u001b[0m\u001b[1;33m\u001b[0m\u001b[1;33m\u001b[0m\u001b[0m\n\u001b[0;32m      9\u001b[0m             \u001b[0mx\u001b[0m\u001b[1;33m[\u001b[0m\u001b[0mi\u001b[0m\u001b[1;33m]\u001b[0m \u001b[1;33m=\u001b[0m \u001b[1;33m(\u001b[0m\u001b[0mb\u001b[0m\u001b[1;33m[\u001b[0m\u001b[0mi\u001b[0m\u001b[1;33m]\u001b[0m \u001b[1;33m-\u001b[0m \u001b[0msum\u001b[0m\u001b[1;33m(\u001b[0m\u001b[0mL\u001b[0m\u001b[1;33m[\u001b[0m\u001b[0mi\u001b[0m\u001b[1;33m,\u001b[0m\u001b[1;33m:\u001b[0m\u001b[0mi\u001b[0m\u001b[1;33m]\u001b[0m \u001b[1;33m*\u001b[0m \u001b[0mx\u001b[0m\u001b[1;33m[\u001b[0m\u001b[1;33m:\u001b[0m\u001b[0mi\u001b[0m\u001b[1;33m]\u001b[0m\u001b[1;33m)\u001b[0m\u001b[1;33m)\u001b[0m \u001b[1;33m/\u001b[0m \u001b[0mL\u001b[0m\u001b[1;33m[\u001b[0m\u001b[0mi\u001b[0m\u001b[1;33m,\u001b[0m\u001b[0mi\u001b[0m\u001b[1;33m]\u001b[0m\u001b[1;33m\u001b[0m\u001b[1;33m\u001b[0m\u001b[0m\n",
      "\u001b[1;31mException\u001b[0m: Matrix is singular."
     ]
    }
   ],
   "source": [
    "A = [[2,1,1,0],[4,3,3,1],[8,7,9,5],[6,7,9,8]]\n",
    "b = [1,3,4,7]\n",
    "x = GaußAlgorithmColumnPivot(A, b)\n",
    "A@x - b"
   ]
  },
  {
   "cell_type": "code",
   "execution_count": null,
   "metadata": {},
   "outputs": [],
   "source": []
  }
 ],
 "metadata": {
  "kernelspec": {
   "display_name": "Python 3",
   "language": "python",
   "name": "python3"
  },
  "language_info": {
   "codemirror_mode": {
    "name": "ipython",
    "version": 3
   },
   "file_extension": ".py",
   "mimetype": "text/x-python",
   "name": "python",
   "nbconvert_exporter": "python",
   "pygments_lexer": "ipython3",
   "version": "3.8.3"
  }
 },
 "nbformat": 4,
 "nbformat_minor": 4
}
