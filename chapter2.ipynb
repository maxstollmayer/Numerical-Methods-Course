{
 "cells": [
  {
   "cell_type": "code",
   "execution_count": 4,
   "metadata": {},
   "outputs": [],
   "source": [
    "import numpy as np\n",
    "import import_ipynb\n",
    "from chapter1 import solveUpper, solveLower, CholeskyDecomp\n",
    "from matplotlib import pyplot as plt\n",
    "\n",
    "plt.rcdefaults()\n",
    "plt.style.use(\"seaborn-whitegrid\")\n",
    "plt.rc(\"figure\", figsize=(11.2, 6.3))\n",
    "plt.rc(\"font\", size=12)\n",
    "plt.rc(\"axes\", edgecolor=\"white\")\n",
    "plt.rc(\"legend\", frameon=True, framealpha=0.8, facecolor=\"white\", edgecolor=\"white\")"
   ]
  },
  {
   "cell_type": "markdown",
   "metadata": {},
   "source": [
    "# 2 Numerical Linear Algebra II"
   ]
  },
  {
   "cell_type": "markdown",
   "metadata": {},
   "source": [
    "## Problem Statement\n",
    "For $A\\in\\mathbb{K}^{n\\times m}$ and $\\ b\\in\\mathbb{K}^n$ find $x\\in\\mathbb{K}^m$ such that $Ax=b,$ where $\\mathbb{K}=\\mathbb{R}$ or $\\mathbb{C}.$\n",
    "\n",
    "If $n<m$ the system is called _underdetermined_ and there exist infinitely many solutions. If on the other hand $n>m$ then the system is _overdetermined_ and there may not even be a solution, i.e. if $b\\notin\\textrm{im}(A)$ since $\\dim\\textrm{im}(A) = m.$\n",
    "\n",
    "For an _overdetermined_ system $Ax=b,\\ x\\in\\mathbb{K}^m$ is called a _solution_ if $|\\!|Ax-b|\\!| = \\min\\{|\\!|Ay-b|\\!|\\ :\\ y \\in \\mathbb{K}^m\\}.$\n",
    "\n",
    "For $|\\!|\\cdot|\\!|_2$ such a solution is called _least squares_ and for $|\\!|\\cdot|\\!|_\\infty$ _Chebyshev approximation._"
   ]
  },
  {
   "cell_type": "markdown",
   "metadata": {},
   "source": [
    "## Normal Equation\n",
    "Solving $AA^*x=A^*b$ yields the least squares solution if $A$ has full rank."
   ]
  },
  {
   "cell_type": "code",
   "execution_count": 5,
   "metadata": {},
   "outputs": [],
   "source": [
    "def solveNormalEquation(A, b):\n",
    "    '''O(n^2 (m+n)/3)'''\n",
    "    A = np.array(A, dtype = np.double)\n",
    "    H = A.T.conj() @ A\n",
    "    c = A.T.conj() @ b\n",
    "    if H.shape == ():\n",
    "        H = [[H]]\n",
    "        c = [c]\n",
    "    L = CholeskyDecomp(H)\n",
    "    y = solveLower(L, c)\n",
    "    return solveUpper(L.T.conj(), y)"
   ]
  },
  {
   "cell_type": "code",
   "execution_count": 6,
   "metadata": {},
   "outputs": [
    {
     "name": "stdout",
     "output_type": "stream",
     "text": [
      "[0.12041078 0.18921694 0.86007702 0.60205392]\n"
     ]
    }
   ],
   "source": [
    "A = [[12,-51,4],[6,167,-68],[-4,24,-41],[10,8,38]]\n",
    "b = [1,1,1,1]\n",
    "x = solveNormalEquation(A, b)\n",
    "print(np.abs(A @ x - b))"
   ]
  },
  {
   "cell_type": "markdown",
   "metadata": {},
   "source": [
    "## QR Decomposition\n",
    "reduced QR decomposition: $A = \\tilde{Q}\\tilde{R}$ for $\\tilde{Q}\\in\\mathbb{K}^{n\\times m}$ a matrix with orthonormal columns and $\\tilde{R}\\in\\mathbb{K}^{m\\times m}$ upper triangle with positive diagonal elements\n",
    "\n",
    "(full) QR decomposition: $A = QR$ for $Q\\in\\textrm{U}(n)$ and $R\\in\\mathbb{K}^{n\\times m}$ a generalized upper triangle matrix, meaning an $m\\times m$ upper triangle matrix with $n-m$ rows of zeros at the end."
   ]
  },
  {
   "cell_type": "markdown",
   "metadata": {},
   "source": [
    "### QR Decomposition via Gram-Schmidt"
   ]
  },
  {
   "cell_type": "code",
   "execution_count": 7,
   "metadata": {},
   "outputs": [],
   "source": [
    "def norm2(x):\n",
    "    return np.sqrt(np.abs(x.conj() @ x))\n",
    "\n",
    "def GramSchmidtQR(A):\n",
    "    '''O(nm^2)'''\n",
    "    \n",
    "    A = np.array(A, dtype = np.double)\n",
    "    n, m = A.shape\n",
    "    R = np.zeros((m,m), dtype = np.double)\n",
    "    Q = np.zeros((n,m), dtype = np.double)\n",
    "    \n",
    "    #loops over columns\n",
    "    for j in range(m):\n",
    "        \n",
    "        #fills in strict upper triangle\n",
    "        for i in range(j):\n",
    "            R[i,j] = Q[:,i].conj().T @ A[:,j]\n",
    "            \n",
    "        v = A[:,j] - (R[:j,j] * Q[:,:j]).sum(axis=1)\n",
    "        R[j,j] = norm2(v)\n",
    "        Q[:,j] = v / R[j,j]\n",
    "    \n",
    "    return Q, R"
   ]
  },
  {
   "cell_type": "code",
   "execution_count": 8,
   "metadata": {},
   "outputs": [
    {
     "name": "stdout",
     "output_type": "stream",
     "text": [
      "[[0.00000000e+00 0.00000000e+00 1.77635684e-15]\n",
      " [0.00000000e+00 0.00000000e+00 0.00000000e+00]\n",
      " [0.00000000e+00 0.00000000e+00 0.00000000e+00]\n",
      " [1.77635684e-15 0.00000000e+00 0.00000000e+00]]\n"
     ]
    }
   ],
   "source": [
    "A = [[12,-51,4],[6,167,-68],[-4,24,-41],[10,8,38]]\n",
    "Q, R = GramSchmidtQR(A)\n",
    "print(Q@R - A)"
   ]
  },
  {
   "cell_type": "code",
   "execution_count": 9,
   "metadata": {},
   "outputs": [],
   "source": [
    "def leastSquares(A, b):\n",
    "    '''O(nm^2)'''\n",
    "    Q, R = GramSchmidtQR(A) #O(nm^2)\n",
    "    return solveUpper(R, Q.T.conj() @ b) #O(m^2)"
   ]
  },
  {
   "cell_type": "code",
   "execution_count": 14,
   "metadata": {},
   "outputs": [
    {
     "name": "stdout",
     "output_type": "stream",
     "text": [
      "[0.12041078 0.18921694 0.86007702 0.60205392]\n"
     ]
    }
   ],
   "source": [
    "A = [[12,-51,4],[6,167,-68],[-4,24,-41],[10,8,38]]\n",
    "b = [1,1,1,1]\n",
    "x = leastSquares(A, b)\n",
    "print(np.abs(A @ x - b))"
   ]
  },
  {
   "cell_type": "markdown",
   "metadata": {},
   "source": [
    "### QR Decomposition via Householder Transformation\n",
    "The Householder transformation describes a reflection of a vector about a hyperplane that contains the origin. For a unit vector $v\\in\\mathbb{K}^n$ that is orthogonal to the hyperplane the corresponding reflection matrix $P_v$ is given by $P_v = I - 2vv^* \\in\\mathbb{K}^{n \\times n}.$"
   ]
  },
  {
   "cell_type": "code",
   "execution_count": 31,
   "metadata": {},
   "outputs": [],
   "source": [
    "def HouseholderQR(A):\n",
    "    '''without Q reconstruction: 2nm^2 - 2/3 m^3 flops'''\n",
    "    R = np.array(A, dtype = np.double)\n",
    "    n, m = R.shape\n",
    "    Q = np.eye(n, dtype = np.double)\n",
    "    I = np.eye(n, dtype = np.double)\n",
    "    \n",
    "    for k in range(m - (n==m)):\n",
    "        a = np.zeros(n)\n",
    "        a[k:] = R[k:,k]\n",
    "        vt = a - norm2(a) * np.copysign(I[k],a[k])\n",
    "        v = vt / norm2(vt)\n",
    "        H = I - 2 * np.dot(v[:,None], v[None,:])\n",
    "        R = H @ R\n",
    "        Q = Q @ H #can be more effieciently reconstructed from the vectors v \n",
    "    \n",
    "    return Q, R"
   ]
  },
  {
   "cell_type": "code",
   "execution_count": 33,
   "metadata": {},
   "outputs": [
    {
     "name": "stdout",
     "output_type": "stream",
     "text": [
      "[[-1.77635684e-15 -2.84217094e-14  0.00000000e+00]\n",
      " [-8.88178420e-16  2.84217094e-14  0.00000000e+00]\n",
      " [ 8.88178420e-16  0.00000000e+00  7.10542736e-15]\n",
      " [ 0.00000000e+00  0.00000000e+00  7.10542736e-15]]\n"
     ]
    }
   ],
   "source": [
    "A = [[12,-51,4],[6,167,-68],[-4,24,-41],[10,8,38]]\n",
    "Q, R = HouseholderQR(A)\n",
    "print(Q@R - A)"
   ]
  },
  {
   "cell_type": "markdown",
   "metadata": {},
   "source": [
    "## Givens Rotations\n",
    "Similarly to the Householder transformation we can introduce zeros in $A$ to transform it into the upper triangle matrix $R$ by using a rotations in the $(i,j)$-plane of $\\theta$ radians. For $c=\\cos(\\theta)$ and $s=\\sin(\\theta)$ the corresponding rotation matrix is given by\n",
    "$$G(i,j,\\theta) = \\begin{pmatrix} 1      & \\dots  & 0      & \\dots  & 0      & \\dots  & 0      \\\\\n",
    "\\vdots & \\ddots & \\vdots &        & \\vdots &        & \\vdots \\\\\n",
    "0      & \\dots  & c      & \\dots  & -s     & \\dots  & 0      \\\\\n",
    "\\vdots &        & \\vdots & \\ddots & \\vdots &        & \\vdots \\\\\n",
    "0      & \\dots  & s      & \\dots  & c      & \\dots  & 0      \\\\\n",
    "\\vdots &        & \\vdots &        & \\vdots & \\ddots & \\vdots \\\\\n",
    "0      & \\dots  & 0      & \\dots  & 0      & \\dots  & 1    \\end{pmatrix}$$"
   ]
  },
  {
   "cell_type": "code",
   "execution_count": 34,
   "metadata": {},
   "outputs": [],
   "source": [
    "def GivensRotation(a, b):\n",
    "    '''6m flops'''\n",
    "    if b == 0:\n",
    "        c = np.copysign(a,1)\n",
    "        s = 0\n",
    "    elif a == 0:\n",
    "        c = 0\n",
    "        s = np.sign(b)\n",
    "    elif np.abs(a) > np.abs(b):\n",
    "        t = b / a\n",
    "        u = np.sign(a) * np.sqrt(1 + t**2)\n",
    "        c = 1 / u\n",
    "        s = c * t\n",
    "    else:\n",
    "        t = a / b\n",
    "        u = np.sign(b) * np.sqrt(1 + t**2)\n",
    "        s = 1 / u\n",
    "        c = s * t\n",
    "    \n",
    "    G = np.array([[c,s],[-s,c]])\n",
    "    return G\n",
    "\n",
    "def GivensQR(A):\n",
    "    '''3nm^2 - m^3 flops'''\n",
    "    R = np.array(A, dtype = np.double)\n",
    "    n, m = R.shape\n",
    "    Q = np.eye(n)\n",
    "    \n",
    "    for j in range(n):\n",
    "        for i in reversed(range(j+1,n)):\n",
    "            G = GivensRotation(R[i-1,j], R[i,j])\n",
    "            R[i-1:i+1,j:] = G @ R[i-1:i+1,j:]\n",
    "            Q[:,i-1:i+1] = Q[:,i-1:i+1] @ G.T\n",
    "    return Q, R"
   ]
  },
  {
   "cell_type": "code",
   "execution_count": 35,
   "metadata": {},
   "outputs": [
    {
     "name": "stdout",
     "output_type": "stream",
     "text": [
      "[[-1.77635684e-15 -2.13162821e-14  0.00000000e+00]\n",
      " [ 0.00000000e+00  5.68434189e-14 -2.84217094e-14]\n",
      " [ 8.88178420e-16 -7.10542736e-15  1.42108547e-14]\n",
      " [-1.77635684e-15  5.32907052e-15  0.00000000e+00]]\n"
     ]
    }
   ],
   "source": [
    "A = [[12,-51,4],[6,167,-68],[-4,24,-41],[10,8,38]]\n",
    "Q, R = GivensQR(A)\n",
    "print(Q@R - A)"
   ]
  },
  {
   "cell_type": "markdown",
   "metadata": {},
   "source": [
    "## Singular Value Decomposition\n",
    "The image of the unit sphere $S_n$ by $A\\in\\mathbb{K}^{n\\times m}$ is an ellipsoid and the lengths $\\sigma_1,\\dots,\\sigma_n$ of its semi-axes are called _singular values._ The corresponding unit vectors $u_i\\mathbb{K}^m$ are called _left-singular vectors_ and their preimages $v_i = A^{-1}(\\sigma_i u_i)\\in\\mathbb{K}^m$ _right-singular vectors._\n",
    "\n",
    "In matrix notation we can write $AV = \\hat{U}\\hat{\\Sigma}$ for $\\hat{\\Sigma}=\\textrm{diag}(\\sigma_1,\\dots,\\sigma_n)\\in\\mathbb{K}^{n\\times n}, \\hat{U}=(u_1 | \\dots | u_n)\\in\\mathbb{K}^{n \\times m}$ and $V=(v_1 | \\dots | v_n)\\in\\mathbb{K}^{m \\times m}.$ The _reduced singular value decomposition_ is $A = \\hat{U}\\hat{\\Sigma}V^*$ since $V\\in\\textrm{U}(m).$\n",
    "\n",
    "By extending $\\hat{U}$ to $U\\in\\textrm{U}(n)$ and $\\hat{\\Sigma}$ to a generalized diagonal matrix $\\Sigma\\in\\mathbb{K}^{n\\times m}$ with nullrows we get the _(full) singular value decomposition_ $A=U\\Sigma V^*$ which exists for every matrix.\n",
    "\n"
   ]
  },
  {
   "cell_type": "code",
   "execution_count": 26,
   "metadata": {},
   "outputs": [],
   "source": [
    "def leastSquaresSVD(A, b):\n",
    "    U, s, Vh = np.linalg.svd(A, full_matrices=False)\n",
    "    y = (U.conj().T @ b) / s\n",
    "    return Vh.conj().T @ y"
   ]
  },
  {
   "cell_type": "code",
   "execution_count": 38,
   "metadata": {},
   "outputs": [
    {
     "name": "stdout",
     "output_type": "stream",
     "text": [
      "[0.12041078 0.18921694 0.86007702 0.60205392]\n"
     ]
    }
   ],
   "source": [
    "A = [[12,-51,4],[6,167,-68],[-4,24,-41],[10,8,38]]\n",
    "b = [1,1,1,1]\n",
    "print(np.abs(A @ leastSquaresSVD(A, b) - b))"
   ]
  },
  {
   "cell_type": "code",
   "execution_count": null,
   "metadata": {},
   "outputs": [],
   "source": []
  }
 ],
 "metadata": {
  "kernelspec": {
   "display_name": "Python 3",
   "language": "python",
   "name": "python3"
  },
  "language_info": {
   "codemirror_mode": {
    "name": "ipython",
    "version": 3
   },
   "file_extension": ".py",
   "mimetype": "text/x-python",
   "name": "python",
   "nbconvert_exporter": "python",
   "pygments_lexer": "ipython3",
   "version": "3.8.3"
  }
 },
 "nbformat": 4,
 "nbformat_minor": 4
}
