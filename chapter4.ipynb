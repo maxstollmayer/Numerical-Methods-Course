{
 "cells": [
  {
   "cell_type": "code",
   "execution_count": 3,
   "metadata": {},
   "outputs": [],
   "source": [
    "import numpy as np"
   ]
  },
  {
   "cell_type": "markdown",
   "metadata": {},
   "source": [
    "# Integration\n",
    "Problem: Calculating $\\int_a^b \\! f(x) \\, \\textrm{d}x.$"
   ]
  },
  {
   "cell_type": "markdown",
   "metadata": {},
   "source": [
    "## Trapezoidal Rule\n",
    "Idea: $\\int_a^b \\! f(x) \\, \\textrm{d}x \\approx (b-a) \\frac{f(a)+f(b)}{2}$"
   ]
  },
  {
   "cell_type": "code",
   "execution_count": 4,
   "metadata": {},
   "outputs": [],
   "source": [
    "def trapezoidalRule(f, a, b, tol=1e-4, maxiter=20):\n",
    "    h = b - a\n",
    "    n = 1\n",
    "    T = h * (f(a) - f(b)) / 2\n",
    "    for _ in range(maxiter):\n",
    "        M = 0\n",
    "        for j in range(n):\n",
    "            M = M + f(a + (j + 1/2) * h)\n",
    "        M = h * M\n",
    "        T = (T + M) / 2\n",
    "        h = h / 2\n",
    "        n = 2 * n\n",
    "        if abs(T - M) <= tol:\n",
    "            return T\n",
    "    print(f\"Did not converge. Error: {abs(T - M)}.\")\n",
    "    return T"
   ]
  },
  {
   "cell_type": "code",
   "execution_count": 5,
   "metadata": {},
   "outputs": [
    {
     "data": {
      "text/plain": [
       "1.493558443999055"
      ]
     },
     "execution_count": 5,
     "metadata": {},
     "output_type": "execute_result"
    }
   ],
   "source": [
    "def f(x):\n",
    "    return np.exp(-x**2)\n",
    "\n",
    "trapezoidalRule(f, -1, 1)"
   ]
  },
  {
   "cell_type": "markdown",
   "metadata": {},
   "source": [
    "## Newton-Cotes Formulas\n",
    "Idea: $\\int_a^b \\! f(x) \\, \\textrm{d}x \\approx \\sum_{i=0}^n w_i f(x_i)$\n",
    "\n",
    "The weights are derived from the Lagrange polynomials. $n=1$ yields the trapezoidal rule."
   ]
  },
  {
   "cell_type": "code",
   "execution_count": 19,
   "metadata": {},
   "outputs": [],
   "source": [
    "def NewtonCotes(f, a, b, n=2):\n",
    "    weights = [\n",
    "        (1/2, 1/2),\n",
    "        (1/6, 4/6, 1/6),\n",
    "        (1/8, 3/8, 3/8, 1/8),\n",
    "        (7/90, 32/90, 12/90, 32/90, 7/90),\n",
    "        (19/288, 75/288, 50/288, 50/288, 75/288, 19/288),\n",
    "        (41/840, 216/840, 27/840, 272/840, 27/840, 216/840, 41/840)\n",
    "    ]\n",
    "    \n",
    "    h = (b - a) / n\n",
    "    y = np.array([f(x) for x in (a + h * np.arange(n+1))])\n",
    "    return (b - a) * np.sum(weigths[n-1] * y)"
   ]
  },
  {
   "cell_type": "code",
   "execution_count": 22,
   "metadata": {},
   "outputs": [
    {
     "data": {
      "text/plain": [
       "1.4939937263947012"
      ]
     },
     "execution_count": 22,
     "metadata": {},
     "output_type": "execute_result"
    }
   ],
   "source": [
    "def f(x):\n",
    "    return np.exp(-x**2)\n",
    "\n",
    "NewtonCotes(f, -1, 1, n=6)"
   ]
  },
  {
   "cell_type": "markdown",
   "metadata": {},
   "source": [
    "## Gauß Quadrature"
   ]
  },
  {
   "cell_type": "markdown",
   "metadata": {},
   "source": [
    "Let $w:\\mathbb{R}\\rightarrow\\mathbb{R}$ be a weight function which is positiv on $[a,b].$ Then $\\langle f,g\\rangle_w := \\int_a^b \\! f(x) g(x) w(x)\\, \\textrm{d}x$ defines an inner product on $C[a,b].$\n",
    "The goal is to approximate $\\int_a^b \\! f(x) w(x) \\,\\textrm{d}x \\approx \\sum_{i=0}^n A_i f(x_i) =: G_nf$ such that for all $p \\in \\mathbb{R}[x]$ with $\\deg p \\le 2n+1$ this approximation is exact: $G_np = \\int_a^b \\! p(x) \\,\\textrm{d}x$.\n",
    "\n",
    "Applying Gram-Schmidt to $\\{1,x,x^2,\\dots\\}$ results in an orthonormal basis $\\{p_0, p_1,\\dots\\}$ of $\\mathbb{R}[x]$.\n",
    "\n",
    "| weight function $w$ | interval $[a,b]$ | orthonormal basis |\n",
    "|:-:|:-:|:-|\n",
    "| $1$ | $[-1$,$1]$ | Legendre |\n",
    "| $\\dfrac{1}{\\sqrt{1-x^2}}$ | $[-1$,$1]$ | Chebychev of 1. kind |\n",
    "| $\\sqrt{1-x^2}$ | $[-1$,$1]$ | Chebychev of 2. kind |\n",
    "| ${(1-x)^\\alpha\\\\ \\cdot(1-x)^\\beta}\\\\ \\alpha,\\beta\\ge1$ | $[-1$,$1]$ | Jacobi |\n",
    "| $e^{-x}$ | $[0$,$\\infty]$ | Laguerre |\n",
    "| $x^\\alpha e^{-x} \\\\ \\alpha > -1$ | $[0$,$\\infty]$ | generalized Laguerre |\n",
    "| $e^{-x^2}$ | $(-\\infty$,$\\infty)$ | Hermite |\n",
    "\n",
    "Let $A_i = \\int_a^b \\! L_i(x)\\,\\textrm{d}x,$ where $L_i(x) = \\prod_{j=0,\\, j\\ne i}^n \\frac{x-x_j}{x_i-x_j}$ is the $i$-th Lagrange polynomial for the roots $\\{x_0,\\dots,x_n\\}$ of $p_{n+1}.$ Then $G_nf$ approximates $\\int_a^b \\! f(x) w(x) \\,\\textrm{d}x$ exactly of degree $2n+1$ with an error of $\\int_a^b \\! f(x) w(x) \\,\\textrm{d}x - G_nf = \\frac{f^{(2n+2)}(\\xi)}{(2n+2)!} \\int_a^b \\! p_{n+1}(x)^2 \\, \\textrm{d}x$ for a $\\xi\\in[a,b]$ and furthermore $\\lim_{n\\rightarrow\\infty} G_nf = \\int_a^b \\! f(x) w(x) \\,\\textrm{d}x.$"
   ]
  },
  {
   "cell_type": "markdown",
   "metadata": {},
   "source": [
    "# Differentiation\n",
    "Idea: Define an algebra of differential numbers."
   ]
  },
  {
   "cell_type": "code",
   "execution_count": null,
   "metadata": {},
   "outputs": [],
   "source": []
  }
 ],
 "metadata": {
  "kernelspec": {
   "display_name": "Python 3",
   "language": "python",
   "name": "python3"
  },
  "language_info": {
   "codemirror_mode": {
    "name": "ipython",
    "version": 3
   },
   "file_extension": ".py",
   "mimetype": "text/x-python",
   "name": "python",
   "nbconvert_exporter": "python",
   "pygments_lexer": "ipython3",
   "version": "3.8.3"
  }
 },
 "nbformat": 4,
 "nbformat_minor": 4
}
