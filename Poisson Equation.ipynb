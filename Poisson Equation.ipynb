{
 "cells": [
  {
   "cell_type": "markdown",
   "metadata": {},
   "source": [
    "<pre>\n",
    "5-point-stencil Poisson Solver:\n",
    "needs grid\n",
    "needs boundary values or periodicity\n",
    "needs inhomogeneity values\n",
    "\n",
    "construct matrix\n",
    "construct resultant vector\n",
    "solve linear system\n",
    "</pre>"
   ]
  },
  {
   "cell_type": "markdown",
   "metadata": {},
   "source": [
    "<pre>\n",
    "try object oriented approach:\n",
    "class Grid\n",
    "class Stencil\n",
    "...\n",
    "</pre>"
   ]
  },
  {
   "cell_type": "code",
   "execution_count": 3,
   "metadata": {},
   "outputs": [],
   "source": [
    "import numpy as np\n",
    "import scipy.sparse as sp\n",
    "from scipy.sparse.linalg import spsolve\n",
    "from matplotlib import pyplot as plt\n",
    "from mpl_toolkits.mplot3d import Axes3D"
   ]
  },
  {
   "cell_type": "markdown",
   "metadata": {},
   "source": [
    "#### Poisson equation on square with uniform grid and periodic boundary values"
   ]
  },
  {
   "cell_type": "code",
   "execution_count": null,
   "metadata": {},
   "outputs": [],
   "source": [
    "def solvePoisson(f, g, a, b, N):\n",
    "    '''\n",
    "    Solves -Laplace[u(x,y)] = f(x,y) with the boundary condition u(x,y) = g(x,y)\n",
    "    on an equidistantly discretized square [a,b] x [a,b].\n",
    "    \n",
    "    Returns array of function values on the grid.\n",
    "    \n",
    "    f ... inhomogeneity function\n",
    "    g ... boundary condition function\n",
    "    a ... (a, a) is lower left corner of the square\n",
    "    b ... (b, b) is upper right corner of the square\n",
    "    N ... number of discretization steps\n",
    "    '''\n",
    "    \n",
    "    h = (b - a) / N\n",
    "    axis = np.linspace(a, b, N+1)\n",
    "    \n",
    "    # generate f values on the inner grid\n",
    "    y = f(axis[1:-1, None], axis[None, 1:-1])\n",
    "    \n",
    "    # generate boundary values\n",
    "    g_bot = g(axis, a)\n",
    "    g_top = g(axis, b)\n",
    "    g_l = g(a, axis)\n",
    "    g_r = g(b, axis)\n",
    "    \n",
    "    # add boundary values to sides\n",
    "    y[0] += g_bot[1:-1] / h**2\n",
    "    y[-1] += g_top[1:-1] / h**2\n",
    "    y[:, 0] += g_l[1:-1] / h**2\n",
    "    y[:, -1] += g_r[1:-1] / h**2\n",
    "    \n",
    "    # system matrix generation\n",
    "    M = (N-1)**2\n",
    "    I1 = -sp.eye(M, M, N-1)\n",
    "    I2 = -sp.eye(M, M, 1-N)\n",
    "    T = -sp.eye(N-1, N-1, -1) + 4*sp.eye(N-1, N-1) - sp.eye(N-1, N-1, 1)\n",
    "    A = sp.block_diag((N-1)*(T,))\n",
    "    L = (I1 + A + I2) / h**2\n",
    "    \n",
    "    # add solution of the system to output array\n",
    "    u = np.zeros((N+1, N+1))\n",
    "    u[1:N, 1:N] = spsolve(L, y.flatten()).reshape((N-1, N-1))\n",
    "    \n",
    "    # add back boundary conditions\n",
    "    u[0] = g_bot\n",
    "    u[-1] = g_top\n",
    "    u[:, 0] = g_l\n",
    "    u[:, -1] = g_r\n",
    "    \n",
    "    return u"
   ]
  },
  {
   "cell_type": "markdown",
   "metadata": {},
   "source": [
    "Refactor: (check if sign is right)"
   ]
  },
  {
   "cell_type": "code",
   "execution_count": 9,
   "metadata": {},
   "outputs": [],
   "source": [
    "def createSystemMatrix(N):\n",
    "    M = (N-1)**2\n",
    "    I1 = sp.eye(M, M, N-1)\n",
    "    I2 = sp.eye(M, M, 1-N)\n",
    "    T = sp.eye(N-1, N-1, -1) - 4*sp.eye(N-1, N-1) + sp.eye(N-1, N-1, 1)\n",
    "    D = sp.block_diag((N-1)*(T,))\n",
    "    return I1 + D + I2"
   ]
  },
  {
   "cell_type": "code",
   "execution_count": 8,
   "metadata": {},
   "outputs": [],
   "source": [
    "def createResultVector(fVals, boundaryVals):\n",
    "    ..."
   ]
  },
  {
   "cell_type": "markdown",
   "metadata": {},
   "source": [
    "# Example"
   ]
  },
  {
   "cell_type": "markdown",
   "metadata": {},
   "source": [
    "Laplace Equation $\\Delta u = 0$\n",
    "- on square $[0,1]^2$\n",
    "- uniform grid with $N+1$ nodes in each direction\n",
    "- step size $h = \\frac{1}{N}$\n",
    "\n",
    "Boundary values\n",
    "- $u(x,0) = 0$\n",
    "- $u(x,1) = \\frac{1}{(1+x)^2 + 1}$\n",
    "- $u(0,y) = \\frac{y}{1+y^2}$\n",
    "- $u(1,y) = \\frac{y}{4 + y^2}$\n",
    "\n",
    "This has exact solution $u(x,y) = \\frac{y}{(1+x)^2 + y^2}$"
   ]
  },
  {
   "cell_type": "code",
   "execution_count": 17,
   "metadata": {},
   "outputs": [],
   "source": [
    "N = 10\n",
    "a = 0\n",
    "b = 1\n",
    "\n",
    "def BoundaryTop(x):\n",
    "    return 1/((1+x)**2 + 1)\n",
    "\n",
    "def BoundaryBottom(x):\n",
    "    return 0\n",
    "\n",
    "def BoundaryLeft(y):\n",
    "    return y / (1 + y**2)\n",
    "\n",
    "def BoundaryRight(y):\n",
    "    return y / (4 + y**2)"
   ]
  },
  {
   "cell_type": "code",
   "execution_count": 14,
   "metadata": {},
   "outputs": [],
   "source": [
    "def BoundaryVector(g, N):\n",
    "    line = np.linspace(a, b, N+1)[1:-1]\n",
    "    return np.array([g(x) for x in line])"
   ]
  },
  {
   "cell_type": "code",
   "execution_count": 28,
   "metadata": {},
   "outputs": [],
   "source": [
    "def ResultMatrix(f, N):\n",
    "    ..."
   ]
  },
  {
   "cell_type": "code",
   "execution_count": null,
   "metadata": {},
   "outputs": [],
   "source": [
    "def solve(ResultMatrix, BoundaryVectors):\n",
    "    N = len(BoundaryVectors[0]) + 1\n",
    "    \n",
    "    # subtract boundary values from the resulting values\n",
    "    ResultMatrix[0] -= BoundaryVectors[0]\n",
    "    ResultMatrix[-1] -= BoundaryVectors[1]\n",
    "    ResultMatrix.T[0] -= BoundaryVectors[2]\n",
    "    ResultMatrix.T[-1] -= BoundaryVectors[3]\n",
    "    \n",
    "    A = createSystemMatrix(N)\n",
    "    \n",
    "    spsolve(A, ResultMatrix.flatten()).reshape(N-1, N-1)"
   ]
  }
 ],
 "metadata": {
  "kernelspec": {
   "display_name": "Python 3",
   "language": "python",
   "name": "python3"
  },
  "language_info": {
   "codemirror_mode": {
    "name": "ipython",
    "version": 3
   },
   "file_extension": ".py",
   "mimetype": "text/x-python",
   "name": "python",
   "nbconvert_exporter": "python",
   "pygments_lexer": "ipython3",
   "version": "3.8.3"
  }
 },
 "nbformat": 4,
 "nbformat_minor": 4
}
